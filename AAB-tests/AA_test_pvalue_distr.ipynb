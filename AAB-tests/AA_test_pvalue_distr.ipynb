{
 "cells": [
  {
   "cell_type": "code",
   "execution_count": 1,
   "id": "241654cd",
   "metadata": {},
   "outputs": [],
   "source": [
    "import pandahouse as ph\n",
    "import numpy as np\n",
    "import seaborn as sns\n",
    "\n",
    "import scipy.stats as stats\n",
    "from tqdm.notebook import tqdm"
   ]
  },
  {
   "cell_type": "code",
   "execution_count": null,
   "id": "d51ac53c",
   "metadata": {},
   "outputs": [],
   "source": []
  },
  {
   "cell_type": "code",
   "execution_count": 2,
   "id": "5bad59ce",
   "metadata": {},
   "outputs": [],
   "source": [
    "connection = {\n",
    "    'host': 'https://clickhouse.lab.karpov.courses',\n",
    "    'password': 'xxx',\n",
    "    'user': 'xxx',\n",
    "    'database': 'xxx'\n",
    "}"
   ]
  },
  {
   "cell_type": "code",
   "execution_count": 3,
   "id": "04bece99",
   "metadata": {},
   "outputs": [],
   "source": [
    "query = \"\"\"\n",
    "select\n",
    "  user_id,\n",
    "  exp_group,\n",
    "  countIf(user_id, action = 'like') as likes,\n",
    "  countIf(user_id, action = 'view') as views,\n",
    "  likes / views as ctr\n",
    "from\n",
    "  {db}.feed_actions\n",
    "where\n",
    "  toDate(time) between '2023-01-30'\n",
    "  and '2023-01-30'\n",
    "  and exp_group in (2, 3)\n",
    "group by\n",
    "  exp_group,\n",
    "  user_id\n",
    "\"\"\"\n",
    "\n",
    "df = ph.read_clickhouse(query, connection=connection)"
   ]
  },
  {
   "cell_type": "code",
   "execution_count": 4,
   "id": "daf788b3",
   "metadata": {},
   "outputs": [
    {
     "data": {
      "text/html": [
       "<div>\n",
       "<style scoped>\n",
       "    .dataframe tbody tr th:only-of-type {\n",
       "        vertical-align: middle;\n",
       "    }\n",
       "\n",
       "    .dataframe tbody tr th {\n",
       "        vertical-align: top;\n",
       "    }\n",
       "\n",
       "    .dataframe thead th {\n",
       "        text-align: right;\n",
       "    }\n",
       "</style>\n",
       "<table border=\"1\" class=\"dataframe\">\n",
       "  <thead>\n",
       "    <tr style=\"text-align: right;\">\n",
       "      <th></th>\n",
       "      <th>user_id</th>\n",
       "      <th>exp_group</th>\n",
       "      <th>likes</th>\n",
       "      <th>views</th>\n",
       "      <th>ctr</th>\n",
       "    </tr>\n",
       "  </thead>\n",
       "  <tbody>\n",
       "    <tr>\n",
       "      <th>0</th>\n",
       "      <td>27467</td>\n",
       "      <td>3</td>\n",
       "      <td>11</td>\n",
       "      <td>84</td>\n",
       "      <td>0.130952</td>\n",
       "    </tr>\n",
       "    <tr>\n",
       "      <th>1</th>\n",
       "      <td>110625</td>\n",
       "      <td>3</td>\n",
       "      <td>11</td>\n",
       "      <td>68</td>\n",
       "      <td>0.161765</td>\n",
       "    </tr>\n",
       "    <tr>\n",
       "      <th>2</th>\n",
       "      <td>23232</td>\n",
       "      <td>3</td>\n",
       "      <td>1</td>\n",
       "      <td>15</td>\n",
       "      <td>0.066667</td>\n",
       "    </tr>\n",
       "    <tr>\n",
       "      <th>3</th>\n",
       "      <td>115383</td>\n",
       "      <td>3</td>\n",
       "      <td>7</td>\n",
       "      <td>20</td>\n",
       "      <td>0.350000</td>\n",
       "    </tr>\n",
       "    <tr>\n",
       "      <th>4</th>\n",
       "      <td>131473</td>\n",
       "      <td>2</td>\n",
       "      <td>8</td>\n",
       "      <td>85</td>\n",
       "      <td>0.094118</td>\n",
       "    </tr>\n",
       "  </tbody>\n",
       "</table>\n",
       "</div>"
      ],
      "text/plain": [
       "   user_id  exp_group  likes  views       ctr\n",
       "0    27467          3     11     84  0.130952\n",
       "1   110625          3     11     68  0.161765\n",
       "2    23232          3      1     15  0.066667\n",
       "3   115383          3      7     20  0.350000\n",
       "4   131473          2      8     85  0.094118"
      ]
     },
     "execution_count": 4,
     "metadata": {},
     "output_type": "execute_result"
    }
   ],
   "source": [
    "df.head()"
   ]
  },
  {
   "cell_type": "code",
   "execution_count": 5,
   "id": "9f2fcf0a",
   "metadata": {},
   "outputs": [
    {
     "name": "stdout",
     "output_type": "stream",
     "text": [
      "(2563,) (2568,)\n"
     ]
    }
   ],
   "source": [
    "# получаем вектор значений CTR для каждой группы\n",
    "ctr_g2 = df[df['exp_group'] == 2]['ctr'].copy().values\n",
    "ctr_g3 = df[df['exp_group'] == 3]['ctr'].copy().values\n",
    "\n",
    "print(ctr_g2.shape, ctr_g3.shape)"
   ]
  },
  {
   "cell_type": "code",
   "execution_count": 6,
   "id": "3c8dcd29",
   "metadata": {},
   "outputs": [
    {
     "data": {
      "image/png": "[encoded data removed]",
      "text/plain": [
       "<Figure size 432x288 with 1 Axes>"
      ]
     },
     "metadata": {
      "needs_background": "light"
     },
     "output_type": "display_data"
    }
   ],
   "source": [
    "# взглянем на распределения CTR по группам\n",
    "sns.set_theme(rc={'figure.figsize': (10, 8)})\n",
    "\n",
    "# посчитаем кол-во интервалов\n",
    "bins = 1 + int(np.log2(max(len(ctr_g2), len(ctr_g2))))\n",
    "\n",
    "sns.histplot(data=df,\n",
    "             x='ctr',\n",
    "             hue='exp_group',\n",
    "             palette=['r', 'b'], \n",
    "             bins=bins);"
   ]
  },
  {
   "cell_type": "code",
   "execution_count": null,
   "id": "7b0eb871",
   "metadata": {},
   "outputs": [],
   "source": []
  },
  {
   "cell_type": "code",
   "execution_count": 9,
   "id": "574875ba",
   "metadata": {},
   "outputs": [
    {
     "data": {
      "application/vnd.jupyter.widget-view+json": {
       "model_id": "813b5136057d4f02961bbb722af50a32",
       "version_major": 2,
       "version_minor": 0
      },
      "text/plain": [
       "  0%|          | 0/10000 [00:00<?, ?it/s]"
      ]
     },
     "metadata": {},
     "output_type": "display_data"
    }
   ],
   "source": [
    "N = 10000\n",
    "n_users = 500\n",
    "p_values_list = []\n",
    "\n",
    "for _ in tqdm(range(N)):\n",
    "    users_500_from_g2 = np.random.choice(ctr_g2,\n",
    "                                         size=n_users,\n",
    "                                         replace=False\n",
    "                                        )\n",
    "    \n",
    "    users_500_from_g3 = np.random.choice(ctr_g3,\n",
    "                                         size=n_users,\n",
    "                                         replace=False\n",
    "                                        )\n",
    "    \n",
    "    statistic, p_value = stats.ttest_ind(a=users_500_from_g2, \n",
    "                                         b=users_500_from_g3,\n",
    "                                         equal_var=False)\n",
    "    p_values_list.append(np.round(p_value, 4))"
   ]
  },
  {
   "cell_type": "code",
   "execution_count": 11,
   "id": "4822f70b",
   "metadata": {},
   "outputs": [
    {
     "data": {
      "text/plain": [
       "[0.7319, 0.6784, 0.1249, 0.7589, 0.4375]"
      ]
     },
     "execution_count": 11,
     "metadata": {},
     "output_type": "execute_result"
    }
   ],
   "source": [
    "p_values_list[:5]"
   ]
  },
  {
   "cell_type": "code",
   "execution_count": null,
   "id": "430e4d36",
   "metadata": {},
   "outputs": [],
   "source": []
  },
  {
   "cell_type": "code",
   "execution_count": 13,
   "id": "e1049eb7",
   "metadata": {},
   "outputs": [
    {
     "data": {
      "image/png": "[encoded data removed]",
      "text/plain": [
       "<Figure size 432x288 with 1 Axes>"
      ]
     },
     "metadata": {
      "needs_background": "light"
     },
     "output_type": "display_data"
    }
   ],
   "source": [
    "# распределение значений p-values\n",
    "bins = 1 + int(np.log2(len(p_values_list)))\n",
    "sns.histplot(data=p_values_list,\n",
    "             palette=['r'], \n",
    "             bins=bins);"
   ]
  },
  {
   "cell_type": "code",
   "execution_count": 14,
   "id": "ca6eb798",
   "metadata": {},
   "outputs": [],
   "source": [
    "p_values_arr = np.array(p_values_list[:])"
   ]
  },
  {
   "cell_type": "code",
   "execution_count": 24,
   "id": "59ca60ae",
   "metadata": {},
   "outputs": [],
   "source": [
    "percent_0_05 = (len(p_values_arr[p_values_arr <= 0.05]) / len(p_values_arr)) * 100"
   ]
  },
  {
   "cell_type": "code",
   "execution_count": 26,
   "id": "f27d63ba",
   "metadata": {},
   "outputs": [
    {
     "name": "stdout",
     "output_type": "stream",
     "text": [
      "(p-values < 0.05) = 3.66%\n"
     ]
    }
   ],
   "source": [
    "print(f'(p-values < 0.05) = {percent_0_05}%')"
   ]
  },
  {
   "cell_type": "code",
   "execution_count": 31,
   "id": "deaacfc5",
   "metadata": {},
   "outputs": [
    {
     "name": "stdout",
     "output_type": "stream",
     "text": [
      "\n",
      "Вывод: примерно 3.66% сравнений выборок выявили статистическую значимость.\n",
      "Если мы возьмем значение предела в 5%, то наша система сплитования работает корректно 96,34% случаях.\n",
      "\n"
     ]
    }
   ],
   "source": [
    "print('''\n",
    "Вывод: примерно 3.66% сравнений выборок выявили статистическую значимость.\n",
    "Если мы возьмем значение предела в 5%, то наша система сплитования работает корректно 96,34% случаях.\n",
    "''')"
   ]
  },
  {
   "cell_type": "code",
   "execution_count": null,
   "id": "1e518629",
   "metadata": {},
   "outputs": [],
   "source": []
  },
  {
   "cell_type": "code",
   "execution_count": null,
   "id": "4946cd4b",
   "metadata": {},
   "outputs": [],
   "source": []
  },
  {
   "cell_type": "code",
   "execution_count": null,
   "id": "ce1c0752",
   "metadata": {},
   "outputs": [],
   "source": []
  }
 ],
 "metadata": {
  "kernelspec": {
   "display_name": "Python 3 (ipykernel)",
   "language": "python",
   "name": "python3"
  },
  "language_info": {
   "codemirror_mode": {
    "name": "ipython",
    "version": 3
   },
   "file_extension": ".py",
   "mimetype": "text/x-python",
   "name": "python",
   "nbconvert_exporter": "python",
   "pygments_lexer": "ipython3",
   "version": "3.8.10"
  }
 },
 "nbformat": 4,
 "nbformat_minor": 5
}
