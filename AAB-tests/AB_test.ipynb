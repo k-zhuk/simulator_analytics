{
 "cells": [
  {
   "cell_type": "code",
   "execution_count": 1,
   "id": "241654cd",
   "metadata": {},
   "outputs": [],
   "source": [
    "import pandahouse as ph\n",
    "import numpy as np\n",
    "import seaborn as sns\n",
    "\n",
    "import scipy.stats as stats\n",
    "from tqdm.notebook import tqdm"
   ]
  },
  {
   "cell_type": "code",
   "execution_count": null,
   "id": "2f762408",
   "metadata": {},
   "outputs": [],
   "source": []
  },
  {
   "cell_type": "code",
   "execution_count": 2,
   "id": "5bad59ce",
   "metadata": {},
   "outputs": [],
   "source": [
    "connection = {\n",
    "    'host': 'https://clickhouse.lab.karpov.courses',\n",
    "    'password': 'xxx',\n",
    "    'user': 'xxx',\n",
    "    'database': 'xxx'\n",
    "}"
   ]
  },
  {
   "cell_type": "code",
   "execution_count": 3,
   "id": "04bece99",
   "metadata": {},
   "outputs": [],
   "source": [
    "query = \"\"\"\n",
    "select\n",
    "  user_id,\n",
    "  exp_group,\n",
    "  countIf(user_id, action = 'like') as likes,\n",
    "  countIf(user_id, action = 'view') as views,\n",
    "  likes / views as ctr\n",
    "from\n",
    "  {db}.feed_actions\n",
    "where\n",
    "  toDate(time) between '2023-01-31'\n",
    "  and '2023-02-06'\n",
    "  and exp_group in (1, 2)\n",
    "group by\n",
    "  exp_group,\n",
    "  user_id\n",
    "\"\"\"\n",
    "\n",
    "df = ph.read_clickhouse(query, connection=connection)"
   ]
  },
  {
   "cell_type": "code",
   "execution_count": 4,
   "id": "daf788b3",
   "metadata": {},
   "outputs": [
    {
     "data": {
      "text/html": [
       "<div>\n",
       "<style scoped>\n",
       "    .dataframe tbody tr th:only-of-type {\n",
       "        vertical-align: middle;\n",
       "    }\n",
       "\n",
       "    .dataframe tbody tr th {\n",
       "        vertical-align: top;\n",
       "    }\n",
       "\n",
       "    .dataframe thead th {\n",
       "        text-align: right;\n",
       "    }\n",
       "</style>\n",
       "<table border=\"1\" class=\"dataframe\">\n",
       "  <thead>\n",
       "    <tr style=\"text-align: right;\">\n",
       "      <th></th>\n",
       "      <th>user_id</th>\n",
       "      <th>exp_group</th>\n",
       "      <th>likes</th>\n",
       "      <th>views</th>\n",
       "      <th>ctr</th>\n",
       "    </tr>\n",
       "  </thead>\n",
       "  <tbody>\n",
       "    <tr>\n",
       "      <th>0</th>\n",
       "      <td>109963</td>\n",
       "      <td>1</td>\n",
       "      <td>3</td>\n",
       "      <td>15</td>\n",
       "      <td>0.200000</td>\n",
       "    </tr>\n",
       "    <tr>\n",
       "      <th>1</th>\n",
       "      <td>26117</td>\n",
       "      <td>1</td>\n",
       "      <td>32</td>\n",
       "      <td>141</td>\n",
       "      <td>0.226950</td>\n",
       "    </tr>\n",
       "    <tr>\n",
       "      <th>2</th>\n",
       "      <td>138232</td>\n",
       "      <td>1</td>\n",
       "      <td>18</td>\n",
       "      <td>73</td>\n",
       "      <td>0.246575</td>\n",
       "    </tr>\n",
       "  </tbody>\n",
       "</table>\n",
       "</div>"
      ],
      "text/plain": [
       "   user_id  exp_group  likes  views       ctr\n",
       "0   109963          1      3     15  0.200000\n",
       "1    26117          1     32    141  0.226950\n",
       "2   138232          1     18     73  0.246575"
      ]
     },
     "execution_count": 4,
     "metadata": {},
     "output_type": "execute_result"
    }
   ],
   "source": [
    "df.head(3)"
   ]
  },
  {
   "cell_type": "markdown",
   "id": "ce75a19b",
   "metadata": {},
   "source": [
    "## Общее\n",
    "\n",
    " - В условии задачи сказано, что необходимо сравнить CTR двух групп.\n",
    " - Т.е. будет два числа, CTR для первой группы, и CTR для второй.\n",
    " - Получается, надо получить распределение CTR для каждой группы, а затем применить метод сравнения.\n",
    " - Буду использовать метод сравнения t-test.\n",
    " - Распределения буду получать с применением бутстрепа."
   ]
  },
  {
   "cell_type": "code",
   "execution_count": 5,
   "id": "9f2fcf0a",
   "metadata": {},
   "outputs": [
    {
     "name": "stdout",
     "output_type": "stream",
     "text": [
      "g1 = 10079\n",
      "g2 = 9952\n"
     ]
    }
   ],
   "source": [
    "# получаем массив значений лайков и просмотров для каждой группы\n",
    "data_g1 = df[df['exp_group'] == 1][['likes', 'views']].copy().values\n",
    "data_g2 = df[df['exp_group'] == 2][['likes', 'views']].copy().values\n",
    "\n",
    "# посмотрим на размеры выборок\n",
    "size_g1 = data_g1.shape[0]\n",
    "size_g2 = data_g2.shape[0]\n",
    "\n",
    "print(f'g1 = {size_g1}\\ng2 = {size_g2}')"
   ]
  },
  {
   "cell_type": "code",
   "execution_count": 6,
   "id": "1c593cac",
   "metadata": {},
   "outputs": [
    {
     "data": {
      "application/vnd.jupyter.widget-view+json": {
       "model_id": "1f03c494e4bf46289ccff39bf3500b34",
       "version_major": 2,
       "version_minor": 0
      },
      "text/plain": [
       "  0%|          | 0/10000 [00:00<?, ?it/s]"
      ]
     },
     "metadata": {},
     "output_type": "display_data"
    }
   ],
   "source": [
    "# количество повторов возьмем из задания 1\n",
    "N = 10000\n",
    "\n",
    "ctr_g1 = []\n",
    "ctr_g2 = []\n",
    "\n",
    "# набутстрапируем выборки для CTR\n",
    "for i in tqdm(range(N)):\n",
    "    likes_g1, views_g1 = np.sum(data_g1[np.random.choice(a=size_g1, size=size_g1)], axis=0)\n",
    "    likes_g2, views_g2 = np.sum(data_g2[np.random.choice(a=size_g2, size=size_g2)], axis=0)\n",
    "    \n",
    "    ctr_g1.append(likes_g1 / views_g1)\n",
    "    ctr_g2.append(likes_g2 / views_g2)"
   ]
  },
  {
   "cell_type": "code",
   "execution_count": null,
   "id": "36317c55",
   "metadata": {},
   "outputs": [],
   "source": []
  },
  {
   "cell_type": "code",
   "execution_count": 10,
   "id": "3c8dcd29",
   "metadata": {},
   "outputs": [
    {
     "data": {
      "image/png": "[encoded data removed]",
      "text/plain": [
       "<Figure size 720x576 with 1 Axes>"
      ]
     },
     "metadata": {},
     "output_type": "display_data"
    }
   ],
   "source": [
    "# взглянем на распределения CTR по группам\n",
    "sns.set_theme(rc={'figure.figsize': (10, 8)})\n",
    "\n",
    "# посчитаем кол-во интервалов\n",
    "\n",
    "ax = sns.histplot(data=ctr_g1,\n",
    "             palette=['r'],\n",
    "             color='blue',\n",
    "             alpha=0.5,\n",
    "             bins=(1 + int(np.log2(len(ctr_g1)))),\n",
    "             label='ctr_g1');\n",
    "\n",
    "# границы для 1 группы\n",
    "ax.vlines(x=[np.min(ctr_g1), np.max(ctr_g1)],\n",
    "          ymin=0, ymax=2000,\n",
    "          linestyles='--',\n",
    "          color='blue',\n",
    "          alpha=0.3)\n",
    "\n",
    "sns.histplot(data=ctr_g2,\n",
    "             ax=ax,\n",
    "             color='black',\n",
    "             alpha=0.5,\n",
    "             bins=(1 + int(np.log2(len(ctr_g2)))),\n",
    "             label='ctr_g2');\n",
    "\n",
    "# границы для 2 группы\n",
    "ax.vlines(x=[np.min(ctr_g2), np.max(ctr_g2)],\n",
    "          ymin=0, ymax=2000,\n",
    "          linestyles='--',\n",
    "          color='black',\n",
    "          alpha=0.3)\n",
    "\n",
    "statistic, p_value = stats.ttest_ind(a=ctr_g1, b=ctr_g2, equal_var=False)\n",
    "ax.set_title(f'p_value = {p_value}')\n",
    "\n",
    "ax.legend();"
   ]
  },
  {
   "cell_type": "markdown",
   "id": "f0d6fe7f",
   "metadata": {},
   "source": [
    "### Вывод\n",
    "\n",
    "Основная гипотеза заключалась в том, что новый алгоритм во 2-ой группе приведет к увеличению CTR.\n",
    "\n",
    "По результатам анализа оказалось, что новый алгоритм приводит к уменьшению CTR. Выявлена статистическая значимость между группами.\n",
    "\n",
    "Поскольку CTR это отношение лайков к просмотрам (в данном случае), то скорее всего рекомендовались нерелевантные посты. Пользователи лайкали примерно как и всегда, а вот просмотров стало больше, а лайкать неинтересные посты пользователь не хочет.\n",
    "\n",
    "Как итог, на данный момент, раскатывать алгоритм на всех пользователей не стоит."
   ]
  },
  {
   "cell_type": "code",
   "execution_count": null,
   "id": "dbf33e27",
   "metadata": {},
   "outputs": [],
   "source": []
  },
  {
   "cell_type": "markdown",
   "id": "2ced9102",
   "metadata": {},
   "source": [
    "### Вариант второй\n",
    "\n",
    "Возможно, я не так понял задание и надо было сравнить именно распределения CTR по группам. Т.е. взять CTR для каждого из пользователей в группе и построить распределение.\n",
    "Сделаем такой вариант."
   ]
  },
  {
   "cell_type": "code",
   "execution_count": 8,
   "id": "a302e3bc",
   "metadata": {},
   "outputs": [],
   "source": [
    "# получим данные CTR по каждому пользователю для каждой группы\n",
    "ctr_data_g1 = df[df['exp_group'] == 1]['ctr'].copy().values\n",
    "ctr_data_g2 = df[df['exp_group'] == 2]['ctr'].copy().values"
   ]
  },
  {
   "cell_type": "code",
   "execution_count": 11,
   "id": "9d56c11c",
   "metadata": {},
   "outputs": [
    {
     "data": {
      "image/png": "[encoded data removed]",
      "text/plain": [
       "<Figure size 720x576 with 1 Axes>"
      ]
     },
     "metadata": {},
     "output_type": "display_data"
    }
   ],
   "source": [
    "statistica_ctr, p_value_ctr = stats.ttest_ind(a=ctr_data_g1,\n",
    "                                              b=ctr_data_g2,\n",
    "                                              equal_var=False)\n",
    "\n",
    "# среднее CTR в группах\n",
    "mean_ctr_g1 = np.mean(ctr_data_g1)\n",
    "mean_ctr_g2 = np.mean(ctr_data_g2)\n",
    "\n",
    "# кол-во интервалов подберем руками, чтобы увидеть различия в распределениях\n",
    "ax_ctr = sns.histplot(data=df,\n",
    "                      x='ctr',\n",
    "                      hue='exp_group',\n",
    "                      palette=['blue', 'black'],\n",
    "                      bins=25)\n",
    "ax_ctr.set_title(f'p_value = {round(p_value_ctr, 4)}\\nmean_CTR_g1 = {np.round(mean_ctr_g1, 4)}\\\n",
    "\\nmean_CTR_g2 = {round(mean_ctr_g2, 4)}');\n",
    "\n",
    "# среднее для 1 группы\n",
    "ax_ctr.vlines(x=mean_ctr_g1,\n",
    "          ymin=0, ymax=2500,\n",
    "          linestyles='--',\n",
    "          color='blue',\n",
    "          alpha=0.3);\n",
    "\n",
    "# среднее для 2 группы\n",
    "ax_ctr.vlines(x=mean_ctr_g2,\n",
    "          ymin=0, ymax=2500,\n",
    "          linestyles='--',\n",
    "          color='black',\n",
    "          alpha=0.3);"
   ]
  },
  {
   "cell_type": "markdown",
   "id": "28a9eb0d",
   "metadata": {},
   "source": [
    "### Вывод\n",
    "\n",
    "Четко видно, что в группах распределения имеют разные типы. В 1-й группе оно похоже на нормальное, а во 2-ой на бимодальное.\n",
    "\n",
    "На графике видно как средние значения накладываются друг на друга, + по значениям они практически одинаковы.\n",
    "\n",
    "При этом, Т-тест не выявил статистической значимости.\n",
    "\n",
    "Поскольку статистической значимости выявлено не было, то раскатывать новый алгоритм на всех новых пользователей не стоит.\n",
    "\n",
    "=============\n",
    "\n",
    "\"*Опишите потенциальную ситуацию, когда такое изменение могло произойти. Тут нет идеального ответа, подумайте.*\"\n",
    "\n",
    "Предположу, что справшивают про ситуацию с бимодальным распределением.\n",
    "\n",
    "Предположу, как и в первом случае (с бутсрепом), что просмотры сильно прыгали. Возможно из-за нерелевантных постов, вследствии чего CTR был не стабилен."
   ]
  },
  {
   "cell_type": "code",
   "execution_count": null,
   "id": "511d649e",
   "metadata": {},
   "outputs": [],
   "source": []
  },
  {
   "cell_type": "code",
   "execution_count": null,
   "id": "7b0eb871",
   "metadata": {},
   "outputs": [],
   "source": []
  },
  {
   "cell_type": "code",
   "execution_count": null,
   "id": "1e518629",
   "metadata": {},
   "outputs": [],
   "source": []
  },
  {
   "cell_type": "code",
   "execution_count": null,
   "id": "4946cd4b",
   "metadata": {},
   "outputs": [],
   "source": []
  },
  {
   "cell_type": "code",
   "execution_count": null,
   "id": "ce1c0752",
   "metadata": {},
   "outputs": [],
   "source": []
  }
 ],
 "metadata": {
  "kernelspec": {
   "display_name": "Python 3 (ipykernel)",
   "language": "python",
   "name": "python3"
  },
  "language_info": {
   "codemirror_mode": {
    "name": "ipython",
    "version": 3
   },
   "file_extension": ".py",
   "mimetype": "text/x-python",
   "name": "python",
   "nbconvert_exporter": "python",
   "pygments_lexer": "ipython3",
   "version": "3.8.10"
  }
 },
 "nbformat": 4,
 "nbformat_minor": 5
}
