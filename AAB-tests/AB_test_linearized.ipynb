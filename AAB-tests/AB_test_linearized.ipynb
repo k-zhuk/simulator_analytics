{
 "cells": [
  {
   "cell_type": "code",
   "execution_count": 1,
   "id": "241654cd",
   "metadata": {},
   "outputs": [],
   "source": [
    "import pandahouse as ph\n",
    "import numpy as np\n",
    "import seaborn as sns\n",
    "\n",
    "import scipy.stats as stats\n",
    "from tqdm.notebook import tqdm"
   ]
  },
  {
   "cell_type": "code",
   "execution_count": null,
   "id": "2f762408",
   "metadata": {},
   "outputs": [],
   "source": []
  },
  {
   "cell_type": "code",
   "execution_count": 2,
   "id": "5bad59ce",
   "metadata": {},
   "outputs": [],
   "source": [
    "connection = {\n",
    "    'host': 'https://clickhouse.lab.karpov.courses',\n",
    "    'password': 'xxx',\n",
    "    'user': 'xxx',\n",
    "    'database': 'xxx'\n",
    "}"
   ]
  },
  {
   "cell_type": "code",
   "execution_count": 3,
   "id": "04bece99",
   "metadata": {},
   "outputs": [],
   "source": [
    "query = \"\"\"\n",
    "select\n",
    "  user_id,\n",
    "  exp_group,\n",
    "  countIf(user_id, action = 'like') as likes,\n",
    "  countIf(user_id, action = 'view') as views,\n",
    "  likes / views as ctr\n",
    "from\n",
    "  {db}.feed_actions\n",
    "where\n",
    "  toDate(time) between '2023-01-31'\n",
    "  and '2023-02-06'\n",
    "  and exp_group in (0,3,1,2)\n",
    "group by\n",
    "  exp_group,\n",
    "  user_id\n",
    "\"\"\"\n",
    "\n",
    "df = ph.read_clickhouse(query, connection=connection)"
   ]
  },
  {
   "cell_type": "code",
   "execution_count": 4,
   "id": "daf788b3",
   "metadata": {},
   "outputs": [
    {
     "data": {
      "text/html": [
       "<div>\n",
       "<style scoped>\n",
       "    .dataframe tbody tr th:only-of-type {\n",
       "        vertical-align: middle;\n",
       "    }\n",
       "\n",
       "    .dataframe tbody tr th {\n",
       "        vertical-align: top;\n",
       "    }\n",
       "\n",
       "    .dataframe thead th {\n",
       "        text-align: right;\n",
       "    }\n",
       "</style>\n",
       "<table border=\"1\" class=\"dataframe\">\n",
       "  <thead>\n",
       "    <tr style=\"text-align: right;\">\n",
       "      <th></th>\n",
       "      <th>user_id</th>\n",
       "      <th>exp_group</th>\n",
       "      <th>likes</th>\n",
       "      <th>views</th>\n",
       "      <th>ctr</th>\n",
       "    </tr>\n",
       "  </thead>\n",
       "  <tbody>\n",
       "    <tr>\n",
       "      <th>0</th>\n",
       "      <td>115383</td>\n",
       "      <td>3</td>\n",
       "      <td>9</td>\n",
       "      <td>30</td>\n",
       "      <td>0.300000</td>\n",
       "    </tr>\n",
       "    <tr>\n",
       "      <th>1</th>\n",
       "      <td>18392</td>\n",
       "      <td>1</td>\n",
       "      <td>7</td>\n",
       "      <td>32</td>\n",
       "      <td>0.218750</td>\n",
       "    </tr>\n",
       "    <tr>\n",
       "      <th>2</th>\n",
       "      <td>123580</td>\n",
       "      <td>3</td>\n",
       "      <td>13</td>\n",
       "      <td>48</td>\n",
       "      <td>0.270833</td>\n",
       "    </tr>\n",
       "  </tbody>\n",
       "</table>\n",
       "</div>"
      ],
      "text/plain": [
       "   user_id  exp_group  likes  views       ctr\n",
       "0   115383          3      9     30  0.300000\n",
       "1    18392          1      7     32  0.218750\n",
       "2   123580          3     13     48  0.270833"
      ]
     },
     "execution_count": 4,
     "metadata": {},
     "output_type": "execute_result"
    }
   ],
   "source": [
    "df.head(3)"
   ]
  },
  {
   "cell_type": "code",
   "execution_count": 5,
   "id": "3f2686e4",
   "metadata": {},
   "outputs": [
    {
     "data": {
      "text/plain": [
       "(40079, 5)"
      ]
     },
     "execution_count": 5,
     "metadata": {},
     "output_type": "execute_result"
    }
   ],
   "source": [
    "df.shape"
   ]
  },
  {
   "cell_type": "markdown",
   "id": "df042594",
   "metadata": {},
   "source": [
    "### Общее\n",
    "\n",
    "Поскольку в задании не указано какая из групп контрольная, то выберем по аналогии со вторым заданием, где сначала указывалась группа с внедрением нового алгоритма постов, а потом указывалась контрольная группа.\n",
    "\n",
    " - 0 - основная, 3 - контрольная\n",
    " - 1 - основная, 2 - контрольная\n",
    " \n",
    "**Задача**\n",
    " - Проанализируйте тест между группами 1 и 2 по метрике линеаризованных лайков. Видно ли отличие? Стало ли 𝑝−𝑣𝑎𝑙𝑢𝑒 меньше?\n",
    " \n",
    "Вывод: визуальные отличия в распределении имеются. Видно отличие значений p-value. Если не использовать линеаризацию, то статистическая значимость не определяется (p-value 0.478). При использовании линеаризации наблюдается статистически значимое различие в группах (p-value 5.9 * 10<sup>-10</sup>)."
   ]
  },
  {
   "cell_type": "markdown",
   "id": "42cbad23",
   "metadata": {},
   "source": [
    "## Эксперимент для групп 0 и 3"
   ]
  },
  {
   "cell_type": "code",
   "execution_count": 6,
   "id": "ae9d308e",
   "metadata": {},
   "outputs": [
    {
     "data": {
      "text/plain": [
       "(20031, 5)"
      ]
     },
     "execution_count": 6,
     "metadata": {},
     "output_type": "execute_result"
    }
   ],
   "source": [
    "# выбираем всех пользователей из 1 и 2 групп\n",
    "exp_12_df = df[df['exp_group'].isin((1, 2))].copy()\n",
    "exp_12_df.shape"
   ]
  },
  {
   "cell_type": "code",
   "execution_count": 7,
   "id": "0a33faf7",
   "metadata": {},
   "outputs": [
    {
     "data": {
      "text/html": [
       "<div>\n",
       "<style scoped>\n",
       "    .dataframe tbody tr th:only-of-type {\n",
       "        vertical-align: middle;\n",
       "    }\n",
       "\n",
       "    .dataframe tbody tr th {\n",
       "        vertical-align: top;\n",
       "    }\n",
       "\n",
       "    .dataframe thead th {\n",
       "        text-align: right;\n",
       "    }\n",
       "</style>\n",
       "<table border=\"1\" class=\"dataframe\">\n",
       "  <thead>\n",
       "    <tr style=\"text-align: right;\">\n",
       "      <th></th>\n",
       "      <th>user_id</th>\n",
       "      <th>exp_group</th>\n",
       "      <th>likes</th>\n",
       "      <th>views</th>\n",
       "      <th>ctr</th>\n",
       "    </tr>\n",
       "  </thead>\n",
       "  <tbody>\n",
       "    <tr>\n",
       "      <th>1</th>\n",
       "      <td>18392</td>\n",
       "      <td>1</td>\n",
       "      <td>7</td>\n",
       "      <td>32</td>\n",
       "      <td>0.218750</td>\n",
       "    </tr>\n",
       "    <tr>\n",
       "      <th>3</th>\n",
       "      <td>131473</td>\n",
       "      <td>2</td>\n",
       "      <td>14</td>\n",
       "      <td>134</td>\n",
       "      <td>0.104478</td>\n",
       "    </tr>\n",
       "    <tr>\n",
       "      <th>4</th>\n",
       "      <td>32420</td>\n",
       "      <td>2</td>\n",
       "      <td>26</td>\n",
       "      <td>128</td>\n",
       "      <td>0.203125</td>\n",
       "    </tr>\n",
       "  </tbody>\n",
       "</table>\n",
       "</div>"
      ],
      "text/plain": [
       "   user_id  exp_group  likes  views       ctr\n",
       "1    18392          1      7     32  0.218750\n",
       "3   131473          2     14    134  0.104478\n",
       "4    32420          2     26    128  0.203125"
      ]
     },
     "execution_count": 7,
     "metadata": {},
     "output_type": "execute_result"
    }
   ],
   "source": [
    "exp_12_df.head(3)"
   ]
  },
  {
   "cell_type": "code",
   "execution_count": 8,
   "id": "2f6b6b56",
   "metadata": {},
   "outputs": [
    {
     "data": {
      "text/plain": [
       "1    10079\n",
       "2     9952\n",
       "Name: exp_group, dtype: int64"
      ]
     },
     "execution_count": 8,
     "metadata": {},
     "output_type": "execute_result"
    }
   ],
   "source": [
    "exp_12_df['exp_group'].value_counts()"
   ]
  },
  {
   "cell_type": "code",
   "execution_count": 9,
   "id": "4c08f454",
   "metadata": {},
   "outputs": [
    {
     "data": {
      "text/plain": [
       "0.1980601844115994"
      ]
     },
     "execution_count": 9,
     "metadata": {},
     "output_type": "execute_result"
    }
   ],
   "source": [
    "# считаем CTRcontrol для 2-ей группы\n",
    "users_g2 = exp_12_df[exp_12_df['exp_group'] == 2].copy()\n",
    "ctr_control_g2 = sum(users_g2['likes']) / sum(users_g2['views'])\n",
    "ctr_control_g2"
   ]
  },
  {
   "cell_type": "code",
   "execution_count": 10,
   "id": "d4925d52",
   "metadata": {},
   "outputs": [],
   "source": [
    "# linearized_likes для каждого пользователя из 0 и 3 групп\n",
    "exp_12_df['linearized_likes'] = exp_12_df['likes'] - ctr_control_g2 * exp_12_df['views']"
   ]
  },
  {
   "cell_type": "code",
   "execution_count": 11,
   "id": "dfce5074",
   "metadata": {},
   "outputs": [
    {
     "data": {
      "text/html": [
       "<div>\n",
       "<style scoped>\n",
       "    .dataframe tbody tr th:only-of-type {\n",
       "        vertical-align: middle;\n",
       "    }\n",
       "\n",
       "    .dataframe tbody tr th {\n",
       "        vertical-align: top;\n",
       "    }\n",
       "\n",
       "    .dataframe thead th {\n",
       "        text-align: right;\n",
       "    }\n",
       "</style>\n",
       "<table border=\"1\" class=\"dataframe\">\n",
       "  <thead>\n",
       "    <tr style=\"text-align: right;\">\n",
       "      <th></th>\n",
       "      <th>user_id</th>\n",
       "      <th>exp_group</th>\n",
       "      <th>likes</th>\n",
       "      <th>views</th>\n",
       "      <th>ctr</th>\n",
       "      <th>linearized_likes</th>\n",
       "    </tr>\n",
       "  </thead>\n",
       "  <tbody>\n",
       "    <tr>\n",
       "      <th>1</th>\n",
       "      <td>18392</td>\n",
       "      <td>1</td>\n",
       "      <td>7</td>\n",
       "      <td>32</td>\n",
       "      <td>0.218750</td>\n",
       "      <td>0.662074</td>\n",
       "    </tr>\n",
       "    <tr>\n",
       "      <th>3</th>\n",
       "      <td>131473</td>\n",
       "      <td>2</td>\n",
       "      <td>14</td>\n",
       "      <td>134</td>\n",
       "      <td>0.104478</td>\n",
       "      <td>-12.540065</td>\n",
       "    </tr>\n",
       "    <tr>\n",
       "      <th>4</th>\n",
       "      <td>32420</td>\n",
       "      <td>2</td>\n",
       "      <td>26</td>\n",
       "      <td>128</td>\n",
       "      <td>0.203125</td>\n",
       "      <td>0.648296</td>\n",
       "    </tr>\n",
       "  </tbody>\n",
       "</table>\n",
       "</div>"
      ],
      "text/plain": [
       "   user_id  exp_group  likes  views       ctr  linearized_likes\n",
       "1    18392          1      7     32  0.218750          0.662074\n",
       "3   131473          2     14    134  0.104478        -12.540065\n",
       "4    32420          2     26    128  0.203125          0.648296"
      ]
     },
     "execution_count": 11,
     "metadata": {},
     "output_type": "execute_result"
    }
   ],
   "source": [
    "exp_12_df.head(3)"
   ]
  },
  {
   "cell_type": "code",
   "execution_count": 12,
   "id": "7b0eb871",
   "metadata": {},
   "outputs": [],
   "source": [
    "# подготовка к сравнению Т-тестом\n",
    "ctr_g1 = exp_12_df[exp_12_df['exp_group'] == 1]['ctr'].copy().values\n",
    "ctr_g2 = exp_12_df[exp_12_df['exp_group'] == 2]['ctr'].copy().values\n",
    "\n",
    "ctr_linearized_g1 = exp_12_df[exp_12_df['exp_group'] == 1]['linearized_likes'].copy().values\n",
    "ctr_linearized_g2 = exp_12_df[exp_12_df['exp_group'] == 2]['linearized_likes'].copy().values"
   ]
  },
  {
   "cell_type": "code",
   "execution_count": 13,
   "id": "4c746d6e",
   "metadata": {},
   "outputs": [
    {
     "data": {
      "text/plain": [
       "((10079,), (9952,), (10079,), (9952,))"
      ]
     },
     "execution_count": 13,
     "metadata": {},
     "output_type": "execute_result"
    }
   ],
   "source": [
    "ctr_g1.shape, ctr_g2.shape, ctr_linearized_g1.shape, ctr_linearized_g2.shape"
   ]
  },
  {
   "cell_type": "markdown",
   "id": "bc38c15a",
   "metadata": {},
   "source": [
    "### Сравнение Т-тестом выборок\n",
    "\n",
    "Сравним значения p-value по метрике CTR и CTRlinearized"
   ]
  },
  {
   "cell_type": "code",
   "execution_count": 14,
   "id": "9af54e09",
   "metadata": {},
   "outputs": [],
   "source": [
    "statistica, p_value = stats.ttest_ind(a=ctr_g1,\n",
    "                                      b=ctr_g2,\n",
    "                                      equal_var=False)\n",
    "\n",
    "statistica_linearized, p_value_linearized = stats.ttest_ind(a=ctr_linearized_g1,\n",
    "                                                            b=ctr_linearized_g2,\n",
    "                                                            equal_var=False)"
   ]
  },
  {
   "cell_type": "code",
   "execution_count": 18,
   "id": "172c3d5b",
   "metadata": {},
   "outputs": [
    {
     "data": {
      "image/png": "[encoded data removed]",
      "text/plain": [
       "<Figure size 720x504 with 1 Axes>"
      ]
     },
     "metadata": {},
     "output_type": "display_data"
    }
   ],
   "source": [
    "sns.set_theme(rc={'figure.figsize': (10, 7)})\n",
    "\n",
    "# для наглядности, зададим кол-во интервалов вручную\n",
    "bins = 25\n",
    "\n",
    "ax = sns.histplot(data=ctr_g1,\n",
    "                  color='blue',\n",
    "                  alpha=0.5,\n",
    "                  bins=bins);\n",
    "\n",
    "sns.histplot(data=ctr_g2,\n",
    "             color='black',\n",
    "             alpha=0.5,\n",
    "             bins=bins,\n",
    "             ax=ax);\n",
    "\n",
    "ax.set_title(f'p_value = {p_value}');"
   ]
  },
  {
   "cell_type": "code",
   "execution_count": 19,
   "id": "5c39f020",
   "metadata": {},
   "outputs": [
    {
     "data": {
      "image/png": "[encoded data removed]",
      "text/plain": [
       "<Figure size 720x504 with 1 Axes>"
      ]
     },
     "metadata": {},
     "output_type": "display_data"
    }
   ],
   "source": [
    "ax_linearized = sns.histplot(data=ctr_linearized_g1,\n",
    "                             color='blue',\n",
    "                             alpha=0.5,\n",
    "                             bins=bins);\n",
    "\n",
    "sns.histplot(data=ctr_linearized_g2,\n",
    "             color='black',\n",
    "             alpha=0.5,\n",
    "             bins=bins,\n",
    "             ax=ax_linearized);\n",
    "\n",
    "ax_linearized.set_title(f'p_value = {p_value_linearized}');"
   ]
  },
  {
   "cell_type": "code",
   "execution_count": 17,
   "id": "fef3d8fb",
   "metadata": {},
   "outputs": [
    {
     "data": {
      "text/plain": [
       "True"
      ]
     },
     "execution_count": 17,
     "metadata": {},
     "output_type": "execute_result"
    }
   ],
   "source": [
    "p_value_linearized < p_value"
   ]
  },
  {
   "cell_type": "code",
   "execution_count": null,
   "id": "19bd675e",
   "metadata": {},
   "outputs": [],
   "source": []
  },
  {
   "cell_type": "code",
   "execution_count": null,
   "id": "7cefdbc1",
   "metadata": {},
   "outputs": [],
   "source": []
  },
  {
   "cell_type": "code",
   "execution_count": null,
   "id": "6ffe5906",
   "metadata": {},
   "outputs": [],
   "source": []
  },
  {
   "cell_type": "code",
   "execution_count": null,
   "id": "cdd50997",
   "metadata": {},
   "outputs": [],
   "source": []
  },
  {
   "cell_type": "code",
   "execution_count": null,
   "id": "1e518629",
   "metadata": {},
   "outputs": [],
   "source": []
  },
  {
   "cell_type": "code",
   "execution_count": null,
   "id": "4946cd4b",
   "metadata": {},
   "outputs": [],
   "source": []
  },
  {
   "cell_type": "code",
   "execution_count": null,
   "id": "ce1c0752",
   "metadata": {},
   "outputs": [],
   "source": []
  }
 ],
 "metadata": {
  "kernelspec": {
   "display_name": "Python 3 (ipykernel)",
   "language": "python",
   "name": "python3"
  },
  "language_info": {
   "codemirror_mode": {
    "name": "ipython",
    "version": 3
   },
   "file_extension": ".py",
   "mimetype": "text/x-python",
   "name": "python",
   "nbconvert_exporter": "python",
   "pygments_lexer": "ipython3",
   "version": "3.8.10"
  }
 },
 "nbformat": 4,
 "nbformat_minor": 5
}
